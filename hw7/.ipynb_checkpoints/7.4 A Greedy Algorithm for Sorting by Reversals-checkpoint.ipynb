{
 "cells": [
  {
   "cell_type": "code",
   "execution_count": 42,
   "metadata": {},
   "outputs": [],
   "source": [
    "def GreedySorting(P):\n",
    "    approxReversalDistance = 0\n",
    "    P2 = P.copy()\n",
    "    n = len(P)\n",
    "    for k in range(n):\n",
    "        if abs(P[k]) != k+1:\n",
    "            index = -1\n",
    "            for i in range(k,n):\n",
    "                if abs(P[i]) == k+1:\n",
    "                    index = i\n",
    "                    break\n",
    "            for i in range(k,index+1):\n",
    "                P2[i] = -P[index+k-i]\n",
    "            P[k:index+1] = P2[k:index+1]\n",
    "            approxReversalDistance = approxReversalDistance + 1\n",
    "            for j in range(n-1):\n",
    "                print(\"%+d\"%P[j],end=' ')\n",
    "            print(P[n-1])\n",
    "        if P[k] == -(k+1):\n",
    "            P[k] = -P[k]\n",
    "            approxReversalDistance = approxReversalDistance + 1\n",
    "            for j in range(n-1):\n",
    "                print(\"%+d\"%P[j],end=' ')\n",
    "            print(P[n-1])\n",
    "            \n",
    "        \n",
    "    return approxReversalDistance"
   ]
  },
  {
   "cell_type": "raw",
   "metadata": {},
   "source": [
    " Sample Input:\n",
    "\n",
    "-3 +4 +1 +5 -2\n",
    "\n",
    "Sample Output:\n",
    "\n",
    "-1 -4 +3 +5 -2\n",
    "+1 -4 +3 +5 -2\n",
    "+1 +2 -5 -3 +4\n",
    "+1 +2 +3 +5 +4\n",
    "+1 +2 +3 -4 -5\n",
    "+1 +2 +3 +4 -5\n",
    "+1 +2 +3 +4 +5"
   ]
  },
  {
   "cell_type": "code",
   "execution_count": 43,
   "metadata": {},
   "outputs": [],
   "source": [
    "P = [-3, +4, +1, +5, -2]"
   ]
  },
  {
   "cell_type": "code",
   "execution_count": 44,
   "metadata": {},
   "outputs": [
    {
     "data": {
      "text/plain": [
       "[5]"
      ]
     },
     "execution_count": 44,
     "metadata": {},
     "output_type": "execute_result"
    }
   ],
   "source": [
    "P[3:4]"
   ]
  },
  {
   "cell_type": "code",
   "execution_count": 45,
   "metadata": {},
   "outputs": [
    {
     "name": "stdout",
     "output_type": "stream",
     "text": [
      "-1 -4 +3 +5 -2\n",
      "+1 -4 +3 +5 -2\n",
      "+1 +2 -5 -3 4\n",
      "+1 +2 +3 +5 4\n",
      "+1 +2 +3 -4 -5\n",
      "+1 +2 +3 +4 -5\n",
      "+1 +2 +3 +4 5\n"
     ]
    },
    {
     "data": {
      "text/plain": [
       "7"
      ]
     },
     "execution_count": 45,
     "metadata": {},
     "output_type": "execute_result"
    }
   ],
   "source": [
    "GreedySorting(P)"
   ]
  }
 ],
 "metadata": {
  "kernelspec": {
   "display_name": "Python 3",
   "language": "python",
   "name": "python3"
  },
  "language_info": {
   "codemirror_mode": {
    "name": "ipython",
    "version": 3
   },
   "file_extension": ".py",
   "mimetype": "text/x-python",
   "name": "python",
   "nbconvert_exporter": "python",
   "pygments_lexer": "ipython3",
   "version": "3.7.3"
  }
 },
 "nbformat": 4,
 "nbformat_minor": 4
}
